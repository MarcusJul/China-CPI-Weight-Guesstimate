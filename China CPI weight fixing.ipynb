{
 "cells": [
  {
   "cell_type": "code",
   "execution_count": null,
   "id": "98255119-a8aa-4980-bf80-c5cbe936d560",
   "metadata": {},
   "outputs": [],
   "source": [
    "import pandas as pd\n",
    "from scipy.optimize import minimize\n",
    "import numpy as np"
   ]
  },
  {
   "cell_type": "code",
   "execution_count": null,
   "id": "c9ba1e80-e32f-4c9a-b31e-1d0168611465",
   "metadata": {},
   "outputs": [],
   "source": [
    "idx_start, idx_end = 60, 125#60, 125 #0, 60\n",
    "# for fixing 2016-2020, use 0 and 60\n",
    "# for fixing 2021-2025, use 61 and 125"
   ]
  },
  {
   "cell_type": "code",
   "execution_count": null,
   "id": "ab07e767-e7b3-4c8d-bfda-eb2fe863ca46",
   "metadata": {},
   "outputs": [],
   "source": [
    "wgts = pd.read_excel(\"China CPI Solver.xlsx\", engine=\"openpyxl\", sheet_name=\"Weight\", index_col=0).iloc[idx_start:idx_end]\n",
    "yoy = pd.read_excel(\"China CPI Solver.xlsx\", engine=\"openpyxl\", sheet_name=\"YoY\", index_col=0).iloc[idx_start:idx_end]\n",
    "mom = pd.read_excel(\"China CPI Solver.xlsx\", engine=\"openpyxl\", sheet_name=\"MoM\", index_col=0).iloc[idx_start:idx_end]\n",
    "\n",
    "print(\"Start and End dates: %.10s and %.10s\"%(wgts.index[0], wgts.index[-1]))"
   ]
  },
  {
   "cell_type": "code",
   "execution_count": null,
   "id": "c238ac36-ab62-42be-90a5-adbba10cb72c",
   "metadata": {},
   "outputs": [],
   "source": [
    "sectors = wgts.columns[1:].tolist()\n",
    "actual_y = yoy[\"Total\"].values\n",
    "actual_m = mom[\"Total\"].values\n",
    "init_guess = wgts.iloc[0,1:].to_numpy().tolist()"
   ]
  },
  {
   "cell_type": "code",
   "execution_count": null,
   "id": "845c3ed2-55e7-40b7-86aa-eaaedf43fe11",
   "metadata": {},
   "outputs": [],
   "source": [
    "sectors"
   ]
  },
  {
   "cell_type": "code",
   "execution_count": null,
   "id": "ada5912c-91bc-4c1f-ae71-a7939afd803d",
   "metadata": {},
   "outputs": [],
   "source": [
    "def opt_func(w):\n",
    "    w_tmp = w\n",
    "    chg_y = yoy.iloc[:,1:].values\n",
    "    chg_m = mom.iloc[:,1:].values\n",
    "    wgt_tmp_y = pd.DataFrame([w_tmp]*len(chg_y)).values\n",
    "    wgt_tmp_m = pd.DataFrame([w_tmp]*len(chg_m)).values\n",
    "    \n",
    "    s_y = (wgt_tmp_y*chg_y/100).sum(axis=1)-actual_y\n",
    "    s_m = (wgt_tmp_m*chg_m/100).sum(axis=1)-actual_m\n",
    "    \n",
    "    return np.sqrt(np.sum(s_y**2))+np.sqrt(np.sum(s_m**2))"
   ]
  },
  {
   "cell_type": "code",
   "execution_count": null,
   "id": "c57e28eb-1860-4b33-92ea-56601ea93404",
   "metadata": {},
   "outputs": [],
   "source": [
    "cons = (\n",
    "    {\"type\":\"ineq\", \"fun\":lambda x:abs(sum(x)-100)}\n",
    ")\n",
    "bnds = tuple([(0,100) for i in range(len(sectors))])"
   ]
  },
  {
   "cell_type": "code",
   "execution_count": null,
   "id": "4f4895ff-18c1-4b1d-906e-2b80a67249de",
   "metadata": {},
   "outputs": [],
   "source": [
    "res = minimize(opt_func, x0=init_guess, method=\"SLSQP\", bounds=bnds,  constraints=cons, tol=1e-9, options={\"disp\":True})"
   ]
  },
  {
   "cell_type": "code",
   "execution_count": null,
   "id": "cb483372-7168-433e-a9fb-d2e83214cbbd",
   "metadata": {
    "scrolled": true
   },
   "outputs": [],
   "source": [
    "pd.DataFrame([res.x],columns=sectors).to_csv(\"results_weight.csv\")"
   ]
  },
  {
   "cell_type": "code",
   "execution_count": null,
   "id": "ded7f626-212e-43e4-93c9-068716c26409",
   "metadata": {},
   "outputs": [],
   "source": [
    "res.x"
   ]
  },
  {
   "cell_type": "code",
   "execution_count": null,
   "id": "3320cd71-3a5d-4dfc-a9a9-cb25c9fbbc12",
   "metadata": {},
   "outputs": [],
   "source": []
  },
  {
   "cell_type": "code",
   "execution_count": null,
   "id": "4a9205d8-bcbe-445d-85e7-4d5a98dd3d65",
   "metadata": {},
   "outputs": [],
   "source": []
  },
  {
   "cell_type": "code",
   "execution_count": null,
   "id": "36853522-9d06-4a3f-a3ee-68aa435fbf12",
   "metadata": {},
   "outputs": [],
   "source": []
  },
  {
   "cell_type": "code",
   "execution_count": null,
   "id": "ac58ce12-66ec-44b7-8056-0943608073b2",
   "metadata": {},
   "outputs": [],
   "source": []
  },
  {
   "cell_type": "code",
   "execution_count": null,
   "id": "42c21979-fcc2-467a-bbec-22074b6cbc06",
   "metadata": {},
   "outputs": [],
   "source": []
  }
 ],
 "metadata": {
  "kernelspec": {
   "display_name": "Python 3 (ipykernel)",
   "language": "python",
   "name": "python3"
  },
  "language_info": {
   "codemirror_mode": {
    "name": "ipython",
    "version": 3
   },
   "file_extension": ".py",
   "mimetype": "text/x-python",
   "name": "python",
   "nbconvert_exporter": "python",
   "pygments_lexer": "ipython3",
   "version": "3.12.7"
  }
 },
 "nbformat": 4,
 "nbformat_minor": 5
}
